{
 "cells": [
  {
   "cell_type": "markdown",
   "id": "7f90e335-445b-4f38-90ae-5ecce2a53778",
   "metadata": {},
   "source": [
    "# **Challenge - Alkemy**"
   ]
  },
  {
   "cell_type": "markdown",
   "id": "1c3b929f-d48b-40b8-96cb-3093e3022056",
   "metadata": {
    "tags": []
   },
   "source": [
    "# **Parte 2 - Requerimiento Funcional - Procesamiento de Datos**\n",
    "1) Abrir las tablas que se descargaron en el punto anterior (Paso 1)\n",
    "2) Instalamos e importamos librerías\n",
    "3) Definimos las funciones a utilizar\n",
    "4) Ejecutamos"
   ]
  },
  {
   "cell_type": "markdown",
   "id": "e2151692-da9e-44f6-9a19-c12b95ff739e",
   "metadata": {
    "tags": []
   },
   "source": [
    "## **1) Instalamos librerias**"
   ]
  },
  {
   "cell_type": "code",
   "execution_count": 89,
   "id": "2e66afc2-bae2-4d2c-987c-14208e8263ed",
   "metadata": {},
   "outputs": [],
   "source": [
    "# !pip install chardet"
   ]
  },
  {
   "cell_type": "markdown",
   "id": "d1db6d92-2944-4b89-b0f7-907ff9c85aa9",
   "metadata": {
    "tags": []
   },
   "source": [
    "## **2) Importamos librerías a utilizar:**"
   ]
  },
  {
   "cell_type": "code",
   "execution_count": 90,
   "id": "c4c6ca33-df99-460a-b13c-8275eba28ebf",
   "metadata": {},
   "outputs": [],
   "source": [
    "import os     # recorrer carpetas\n",
    "import glob   # para buscar el ultimo archivo modificado\n",
    "import pandas as pd\n",
    "import logging\n",
    "import chardet\n",
    "import numpy as np\n",
    "# import requests, re\n",
    "from datetime import datetime\n",
    "\n",
    "# # Seteamos el idioma español para las fechas (funciones: fecha_ultimo_cambio y file_path)\n",
    "# import locale\n",
    "# locale.setlocale(locale.LC_ALL,'es_ES.UTF-8')"
   ]
  },
  {
   "cell_type": "code",
   "execution_count": 91,
   "id": "1d92cc7d-7f20-4414-b18f-7e3c633557f8",
   "metadata": {},
   "outputs": [],
   "source": [
    "# os.getcwd()"
   ]
  },
  {
   "cell_type": "markdown",
   "id": "cdedcf63-c5a3-4c8a-b95d-f5a165f22ac6",
   "metadata": {
    "tags": []
   },
   "source": [
    "## **3) Funciones a Utilizar**"
   ]
  },
  {
   "cell_type": "code",
   "execution_count": 92,
   "id": "01c4b4c1-386f-4d91-bcb0-bb9a3470ca95",
   "metadata": {
    "tags": []
   },
   "outputs": [],
   "source": [
    "# def fecha_ultimo_cambio(url_pagina):\n",
    "#     ''' Obtiene la fecha de última modificación de los datos.\n",
    "#     Buscando en la página la frase \"Último cambio\" y luego limpiando\n",
    "#     la cadena de caracteres para obtener sólo la fecha (DD/MM/YYYY).\n",
    "    \n",
    "#     INPUT: url_pagina: pagina web donde se encuentra la fecha deseada\n",
    "#     OUPUT: ultimo_cambio: fecha en formato: \"16 julio 2018\"   --------- FALTA ARREGLAR EL FORMATO PARA AGREGARLA A LA TABLA DE DATOS ------------\n",
    "#     '''\n",
    "    \n",
    "#     pagina = requests.get(url = url_pagina)\n",
    "#     requests_get_OK(pagina)\n",
    "    \n",
    "#     meses = ['enero', 'febrero', 'marzo', 'abril', 'mayo', 'junio',\n",
    "#              'julio', 'agosto', 'septiembre', 'setiembre', 'octubre',\n",
    "#              'noviembre', 'diciembre']\n",
    "    \n",
    "#     # Busca y formatea la fecha\n",
    "#     target = 'Último cambio'\n",
    "#     f = re.search(target, pagina.text)\n",
    "#     fecha_string = pagina.text[f.span()[0]+100:f.span()[1]+210]\n",
    "#     ultimo_cambio = fecha_string.strip()    # Elimina los espacios en blancos que hay antes y después de la fecha\n",
    "    \n",
    "#     a = [True for m in meses if m in fecha_string.lower()]\n",
    "#     if not a: \n",
    "#         print('No se encontró fecha de última actualización en la web')\n",
    "#         logging.warning('No se encontró fecha de última actualización en la web')\n",
    "#     else:\n",
    "#         logging.info(f'Se encontró la fecha {ultimo_cambio}')\n",
    "    \n",
    "#     if 'de' in ultimo_cambio: \n",
    "#         ultimo_cambio = ultimo_cambio.replace(' de', '')\n",
    "    \n",
    "#     fecha = datetime.strptime(ultimo_cambio, '%d %B %Y')\n",
    "#     ultima_fecha = fecha.strftime('%d/%m/%Y')\n",
    "    \n",
    "#     logging.info(f'Última modificación de la tabla: {ultima_fecha}')\n",
    "    \n",
    "#     return ultima_fecha"
   ]
  },
  {
   "cell_type": "code",
   "execution_count": 93,
   "id": "0fb4007e-c342-4b5e-9b52-1241a6f2dfe1",
   "metadata": {},
   "outputs": [],
   "source": [
    "def buscar_archivos(carpeta_ppal = 'Cultura_dataset'):\n",
    "    ''' Busca la carpeta principal donde se guardaron los archivos y\n",
    "    busca los archivos con los datos, i.e. las tablas\n",
    "    (Los archivos fuentes los habíamos guardado dentro de la carpeta \"Cultura_dataset\")\n",
    "    Deben haber sólo 3 carpetas dentro de \"Cultura_dataset\", correspondientes a las\n",
    "    tres categorías (i.e. bibliotecas populares, museos y cines).\n",
    "    \n",
    "    INPUT: carpeta principal, creada en la función file_path\n",
    "    OUTPUT: lista con los path de cada archivo a procesar\n",
    "    '''\n",
    "    # Buscamos la carpeta raíz donde están las carpetas con los datos\n",
    "    for root, dir, files in os.walk(os.getcwd()):\n",
    "        if carpeta_ppal in dir:\n",
    "            path = os.path.join(root, carpeta_ppal) \n",
    "#     print(f'El path de la carpeta {carpeta_ppal} es: {path}')\n",
    "    \n",
    "    p = path+'/*'\n",
    "    # Carpetas de cada categoria\n",
    "    folder_cat = glob.glob(p)\n",
    "    \n",
    "    # Selecciona las carpetas más nuevas de cada categoria\n",
    "    last_folder = [max(glob.glob(ind+'/*'), key=os.path.getmtime) for ind in folder_cat if os.path.isdir(ind)]\n",
    "    \n",
    "    # Selecciona los archivos más nuevos de cada categoria\n",
    "    last_files = [max(glob.glob(ind+'/*'), key=os.path.getmtime) for ind in last_folder]\n",
    "        \n",
    "    logging.info(f'Carpeta y archivos encontrados.')\n",
    "\n",
    "    return last_files"
   ]
  },
  {
   "cell_type": "markdown",
   "id": "57dfcf4e-0086-4e70-9687-a42e814983ed",
   "metadata": {},
   "source": [
    "**VER SI ME ELIGE LA CARPETA Y EL ARCHIVO MÁS NUEVO, EL MÁS ACTUALIZADO**"
   ]
  },
  {
   "cell_type": "markdown",
   "id": "9da28562-f285-4192-8236-1c1fa7ff920e",
   "metadata": {},
   "source": [
    "**Encoding y abrir archivo en un DataFrame**"
   ]
  },
  {
   "cell_type": "code",
   "execution_count": 94,
   "id": "f869f6b1-004d-4699-9355-9f5d265f0059",
   "metadata": {},
   "outputs": [],
   "source": [
    "def leer_archivos_DF(file):\n",
    "    '''\n",
    "    Chequeamos el encoding del archivo y lo abrimos.\n",
    "    \n",
    "    INPUT: el path del archivo a leer\n",
    "    OUTPUT: DataFrame con la tabla de datos\n",
    "    '''\n",
    "    \n",
    "    with open(file, 'rb') as data:\n",
    "        result = chardet.detect(data.read(1000000))\n",
    "    encode = result['encoding']\n",
    "    \n",
    "    df = pd.read_csv(file, encoding = encode, dtype=str)  \n",
    "    # le pongo dtype=str, así de esta forma cdo tengo q juntar las columnas del teléfono, es igual para las 3 categorías.\n",
    "    # si no lo pongo, cdo abro museos sale una forma distinta...\n",
    "    logging.info(f'Archivo leído y listo para procesar.')\n",
    "\n",
    "    \n",
    "    return df"
   ]
  },
  {
   "cell_type": "markdown",
   "id": "74f512f4-7dba-4a38-9be5-145ec1f353cf",
   "metadata": {},
   "source": [
    "**Cambiamos la cadena 's/d' de la tabla por NaN**\n",
    "\n",
    "(Enunciado PDF dice: \"Los registros para los cuales la fuente no brinda información deben cargarse como nulos.\"\")"
   ]
  },
  {
   "cell_type": "code",
   "execution_count": 95,
   "id": "0a61b743-e799-4799-be4e-f0a5792b84e0",
   "metadata": {},
   "outputs": [],
   "source": [
    "def reemplazo_sd_NaN(df):\n",
    "    '''\n",
    "    Las tablas suelen tener registros nulos y tienen como valor 's/d' (sin datos).\n",
    "    Chequeamos si tienen y los reemplazamos por el valor nulo: np.NaN\n",
    "    \n",
    "    INPUT: el dataframe de la tabla de datos\n",
    "    OUTPUT: tabla de datos resultante\n",
    "    '''\n",
    "    if 's/d' in df.values:\n",
    "        df = df.replace('s/d',np.NaN)\n",
    "    return df"
   ]
  },
  {
   "cell_type": "markdown",
   "id": "a5b606a2-546f-4812-83c7-df953b2dfe58",
   "metadata": {},
   "source": [
    "**Estandarizamos los nombres de las Provincias**"
   ]
  },
  {
   "cell_type": "code",
   "execution_count": 96,
   "id": "ddfcae77-a659-4aee-90b2-e68c49acd210",
   "metadata": {},
   "outputs": [],
   "source": [
    "def corregir_provincias(dataframe, col_name):\n",
    "    '''\n",
    "    Debido a que a veces encontramos el nombre de las provincias\n",
    "    sin tildes o en minúsculas, buscamos que las provincias\n",
    "    estén escritas de una sóla forma, igual en todas las tablas.\n",
    "    \n",
    "    INPUT: dataframe: tabla con los datos (tipo dataframe de pandas)\n",
    "           col_name: nombre de la columna que contiene a las provincias\n",
    "    OUTPUT: dataframe estandarizado\n",
    "    '''\n",
    "    # Así quiero que salgan los nombres de las provincias\n",
    "    provincias = ['San Juan', 'Ciudad Autonoma de Buenos Aires',\n",
    "                  'Buenos Aires', 'Entre Ríos','Santa Fé', 'Corrientes',\n",
    "                  'Córdoba', 'San Luis', 'Santiago del Estero','Tucumán',\n",
    "                  'Mendoza', 'La Rioja', 'Catamarca', 'Salta', 'Jujuy',\n",
    "                  'Chaco', 'Formosa', 'Misiones', 'La Pampa', 'Neuquén',\n",
    "                  'Río Negro', 'Santa Cruz','Tierra del Fuego', 'Chubut']\n",
    "    \n",
    "    # Transformo las vocales con tildes por vocales sin tildes\n",
    "    # y después paso las provincias a minúsculas.\n",
    "    a = 'áéíóú'\n",
    "    b = 'aeiou'\n",
    "    trans = str.maketrans(a,b)\n",
    "    \n",
    "    dataframe[col_name] = dataframe[col_name].str.translate(trans).str.lower()\n",
    "    \n",
    "    for p in provincias:\n",
    "        mask = p.translate(trans).lower() \n",
    "        dataframe.loc[dataframe[col_name].str.contains(mask), col_name] = p\n",
    "    \n",
    "    return dataframe   "
   ]
  },
  {
   "cell_type": "markdown",
   "id": "b50289a2-dc5f-43d6-a36c-25d5e3f515df",
   "metadata": {},
   "source": [
    "## **4) Ejecutamos**"
   ]
  },
  {
   "cell_type": "markdown",
   "id": "8e24d4ba-d989-4c14-a254-705811be04de",
   "metadata": {
    "tags": []
   },
   "source": [
    "- **suponemos que los códigos de área de los números de teléfonos están bien**\n",
    "(cosa que no pasa, al menos en cines)"
   ]
  },
  {
   "cell_type": "code",
   "execution_count": null,
   "id": "96d807ef-e2c8-4f68-ba27-241e6ad576bd",
   "metadata": {
    "tags": []
   },
   "outputs": [],
   "source": [
    "# ''' URLs dadas: No es la url directa a la tabla '''\n",
    "# url_museos = 'https://datos.gob.ar/dataset/cultura-mapa-cultural-espacios-culturales/archivo/cultura_4207def0-2ff7-41d5-9095-d42ae8207a5d'\n",
    "# url_cines = 'https://datos.gob.ar/dataset/cultura-mapa-cultural-espacios-culturales/archivo/cultura_392ce1a8-ef11-4776-b280-6f1c7fae16ae'\n",
    "# url_bibliotecas = 'https://datos.gob.ar/dataset/cultura-mapa-cultural-espacios-culturales/archivo/cultura_01c6c048-dbeb-44e0-8efa-6944f73715d7'"
   ]
  },
  {
   "cell_type": "code",
   "execution_count": 99,
   "id": "2d05f6ef-cdbe-467a-a3e8-23f1bd4c6c48",
   "metadata": {
    "tags": []
   },
   "outputs": [],
   "source": [
    "# '''Buscamos la última fecha de modificación de las tablas '''\n",
    "# ### hay una función que se usa en este archivo (2da parte) y en el primero (1ra parte)\n",
    "\n",
    "# museo_fecha_act = fecha_ultimo_cambio(url_museos)  # da la fecha como string\n",
    "# cines_fecha_act = fecha_ultimo_cambio(url_cines)\n",
    "# biblio_fecha_act = fecha_ultimo_cambio(url_bibliotecas)\n",
    "\n",
    "# museo_fecha_act, cines_fecha_act, biblio_fecha_act"
   ]
  },
  {
   "cell_type": "code",
   "execution_count": null,
   "id": "de28e239-d806-4e21-a40f-6e98e0da0bd6",
   "metadata": {},
   "outputs": [],
   "source": [
    "# Usamos el archivo info.LOG creado anteriormente\n",
    "logging.basicConfig(filename= 'info.log', format='%(asctime)s : %(levelname)s : %(message)s',\n",
    "                    datefmt='%d/%m/%y %H:%M:%S', level=logging.INFO,\n",
    "                    filemode = 'a', force=True)\n",
    "logging.info('EJECUTANDO LA PARTE 2 (2do archivo....')"
   ]
  },
  {
   "cell_type": "code",
   "execution_count": 101,
   "id": "ed187696-48a4-45be-9de2-75bd44e931af",
   "metadata": {
    "tags": []
   },
   "outputs": [],
   "source": [
    "# Archivos a procesar:\n",
    "archivos = buscar_archivos()\n",
    "#archivos  # lista con los archivos a utilizar"
   ]
  },
  {
   "cell_type": "code",
   "execution_count": null,
   "id": "43f1ad1a-8948-4483-9bf5-0229d83a4222",
   "metadata": {
    "jupyter": {
     "source_hidden": true
    },
    "tags": []
   },
   "outputs": [],
   "source": [
    "# Ver la fecha de última modifiación\n",
    "#print(datetime.fromtimestamp(os.path.getmtime(archivos[0])))"
   ]
  },
  {
   "cell_type": "markdown",
   "id": "4cb67994-77fd-46ac-8a5f-12b067bbaadf",
   "metadata": {},
   "source": [
    "### **Abrimos archivos y reemplazamos 's/d' por np.NaN**"
   ]
  },
  {
   "cell_type": "code",
   "execution_count": 103,
   "id": "21b9446b-8093-4496-871e-e67d3a8f7c5c",
   "metadata": {},
   "outputs": [],
   "source": [
    "# Asignamos nombres a los archivos\n",
    "biblio = archivos[0]\n",
    "museos = archivos[1]\n",
    "cines = archivos[2]\n",
    "\n",
    "# Abrimos los archivos en formato DataFrame y dtype=string\n",
    "biblio_df = leer_archivos_DF(biblio)\n",
    "museos_df = leer_archivos_DF(museos)\n",
    "cines_df = leer_archivos_DF(cines)\n",
    "\n",
    "# Reemplazamos los 's/d' por np.NaN\n",
    "biblio_df_nan = reemplazo_sd_NaN(biblio_df)\n",
    "museos_df_nan = reemplazo_sd_NaN(museos_df)\n",
    "cines_df_nan = reemplazo_sd_NaN(cines_df)"
   ]
  },
  {
   "cell_type": "code",
   "execution_count": null,
   "id": "d06db8f8-ffb5-47b2-8e04-85d4ae1fd1a0",
   "metadata": {},
   "outputs": [],
   "source": []
  },
  {
   "cell_type": "markdown",
   "id": "e2b0c46e-1b2b-491e-8de8-732d22a90947",
   "metadata": {
    "tags": []
   },
   "source": [
    "### **Modificamos los nombres de las columnas**"
   ]
  },
  {
   "cell_type": "code",
   "execution_count": 105,
   "id": "a197955a-50c5-4921-8d00-1dbef2e86c7d",
   "metadata": {},
   "outputs": [],
   "source": [
    "# Nombre de las columnas dadas en el PDf del Challenge, a utilizar\n",
    "columnas = ['Cod_localidad', 'Id_provincia', 'Id_departamento',\n",
    "                'Categoría', 'Provincia', 'Localidad', 'Nombre', \n",
    "                'Domicilio', 'Código postal', 'Número de teléfono',\n",
    "                'Email', 'Web', 'Fuente']"
   ]
  },
  {
   "cell_type": "code",
   "execution_count": 107,
   "id": "77433c60-94ce-4067-b7bb-348731d2a4ab",
   "metadata": {},
   "outputs": [],
   "source": [
    "## Renombramos algunas columnas, según fueron dadas en el enunciado del challenge.\n",
    "## Lo hago categoría por categoría porque hay diferencias en nombres y hasta columnas que faltan\n",
    "\n",
    "'''  Bibliotecas Populares '''\n",
    "biblio_df_nan.rename(columns={'Cod_Loc':columnas[0], 'IdProvincia':columnas[1],\n",
    "                              'IdDepartamento':columnas[2], 'Categoría':columnas[3],\n",
    "                              'Provincia':columnas[4], 'Localidad':columnas[5], \n",
    "                              'Nombre':columnas[6], 'Domicilio':columnas[7],\n",
    "                              'CP':columnas[8], 'Teléfono':columnas[9],\n",
    "                              'Mail':columnas[10], 'Web':columnas[11]},\n",
    "                     inplace=True)\n",
    "    \n",
    "'''  Museos '''\n",
    "museos_df_nan.rename(columns={'localidad_id':columnas[0], 'provincia_id':columnas[1],\n",
    "                              'provincia':columnas[4], 'localidad':columnas[5], \n",
    "                              'nombre':columnas[6], 'direccion':columnas[7],\n",
    "                              'codigo_postal':columnas[8], 'telefono':columnas[9],\n",
    "                              'mail':columnas[10], 'web':columnas[11], 'fuente':columnas[12]},\n",
    "                     inplace=True)\n",
    "\n",
    "# Agregamos la columna 'Id_departamento' a partir del Código de Localidad.\n",
    "for ind in range(len(museos_df_nan)):\n",
    "    museos_df_nan.loc[ind, 'Id_departamento'] = int(str(museos_df_nan['Cod_localidad'][ind])[:-3])\n",
    "\n",
    "# Defino la columna tipo Integer\n",
    "museos_df_nan['Id_departamento'] = museos_df_nan['Id_departamento'].astype('Int64')\n",
    "\n",
    "# Agregamos la columna 'Categoría' que en este caso es 'Museos'\n",
    "museos_df_nan['Categoría'] = 'Museos'\n",
    "\n",
    "'''  Cines '''\n",
    "cines_df_nan.rename(columns={'Cod_Loc':columnas[0], 'IdProvincia':columnas[1],\n",
    "                             'IdDepartamento':columnas[2], 'Categoría':columnas[3],\n",
    "                             'Provincia':columnas[4], 'Localidad':columnas[5], \n",
    "                             'Nombre':columnas[6], 'Dirección':columnas[7],\n",
    "                             'CP':columnas[8], 'Teléfono':columnas[9],\n",
    "                             'Mail':columnas[10], 'Web':columnas[11]},\n",
    "                    inplace=True)"
   ]
  },
  {
   "cell_type": "markdown",
   "id": "0d98f6cd-80a1-4945-8519-181e77b6c14e",
   "metadata": {},
   "source": [
    "### **Modificamos y estandarizamos los nombres de las Provincias**\n",
    "\n",
    "Nuestro país está dividido en 24 jurisdicciones: 23 provincias y un distrito federal (Ciudad Autónoma de Buenos Aires)."
   ]
  },
  {
   "cell_type": "code",
   "execution_count": 109,
   "id": "e4abb279-dab8-41dc-a995-8b00227837c8",
   "metadata": {},
   "outputs": [],
   "source": [
    "biblio_df_nan = corregir_provincias(biblio_df_nan, 'Provincia')\n",
    "museos_df_nan = corregir_provincias(museos_df_nan, 'Provincia')\n",
    "cines_df_nan = corregir_provincias(cines_df_nan, 'Provincia')"
   ]
  },
  {
   "cell_type": "markdown",
   "id": "5477f5f8-7fae-44e1-b074-1abe21b0644a",
   "metadata": {
    "tags": []
   },
   "source": [
    "### **Unimos el código de área con el número de teléfono**\n",
    "\n",
    "Pusimos en el read_csv, dtype=string, para que no hubiera problemas al unir el codigo de telefono con el numero de telefono.\n",
    "Lo único es q habrán teléfonos q empiezan con 011 y otros con 11, por como fueron ingresados."
   ]
  },
  {
   "cell_type": "code",
   "execution_count": null,
   "id": "713419e8-d81d-411d-9fd8-c9bbec7dcc7d",
   "metadata": {},
   "outputs": [],
   "source": [
    "# No hago función porq es una línea para c/tabla\n",
    "biblio_df_nan['Número de teléfono'] = biblio_df_nan['Cod_tel'] + biblio_df_nan['Número de teléfono']  # queda 11 en lugar de 011\n",
    "museos_df_nan['Número de teléfono'] = museos_df_nan['codigo_indicativo_telefono'] + museos_df_nan['Número de teléfono']  # queda el 011 en lugar de 11\n",
    "cines_df_nan['Número de teléfono'] = cines_df_nan['cod_area'] + cines_df_nan['Número de teléfono']  # queda 11 en lugar de 011"
   ]
  },
  {
   "cell_type": "code",
   "execution_count": null,
   "id": "65237619-9209-4ee7-8807-0aacc2a5d105",
   "metadata": {},
   "outputs": [],
   "source": []
  },
  {
   "cell_type": "markdown",
   "id": "57f8227d-d01c-4b99-95e9-7f60fc962391",
   "metadata": {},
   "source": [
    "### **Creamos tabla con información sobre los Cines**"
   ]
  },
  {
   "cell_type": "code",
   "execution_count": 135,
   "id": "a1c69110-2126-4b67-8177-15a2230b559a",
   "metadata": {},
   "outputs": [
    {
     "name": "stdout",
     "output_type": "stream",
     "text": [
      "[0 1]\n"
     ]
    }
   ],
   "source": [
    "''' La columna \"espacio_INCAA\" tiene varios valores, no está estandarizado\n",
    "entonces vamos a reemplazar los \"Si\" por 1, y el resto por 0 (que serían los \"No\"),\n",
    "para que queden sólo 2 valores '''\n",
    "\n",
    "cines_df_nan['espacio_INCAA'].replace(['si','Si','SI', '1'], 1, inplace=True)\n",
    "cines_df_nan['espacio_INCAA'].replace(['nan','0',np.NaN, 'no', 'NO', 'No'], 0, inplace=True)\n",
    "if len(cines_df_nan['espacio_INCAA'].unique()) != 2: \n",
    "    print('Error en la estandarización INCAA')  # verificar q sólo hay 1 y 0\n",
    "    print('Verificar que valor no se modificó por 0 o 1')\n",
    "    print(cines_df_nan['espacio_INCAA'].unique())\n"
   ]
  },
  {
   "cell_type": "code",
   "execution_count": 111,
   "id": "9a56729a-30f2-473b-a8f2-f2ddfa095f57",
   "metadata": {
    "tags": []
   },
   "outputs": [],
   "source": [
    "''' Cambiamos el dtype de algunas columnas para crear esta tabla.\n",
    " Los registros NaN, dan error si elijo dtype=integer, y si elijo dtype=string cambia a <NA> '''\n",
    "\n",
    "cols = ['Provincia', 'Pantallas', 'Butacas', 'espacio_INCAA']\n",
    "cines_INCAA = cines_df_nan.astype({'Pantallas':'int', 'Butacas':'int', 'espacio_INCAA':'int'})"
   ]
  },
  {
   "cell_type": "code",
   "execution_count": 112,
   "id": "cfc09a73-f7bf-4dc7-bb3a-9797ec525cc3",
   "metadata": {},
   "outputs": [],
   "source": [
    "# Agrupamos por provincia y calculamos la cantidad de Pantallas, Butacas y espacios INCAA que hay.\n",
    "tabla_INCAA = cines_INCAA[cols].groupby(by='Provincia').sum().sort_values(by='Pantallas', ascending=False)"
   ]
  },
  {
   "cell_type": "code",
   "execution_count": 113,
   "id": "971aef9e-1125-4c8a-9f2f-80b9588b3b48",
   "metadata": {},
   "outputs": [
    {
     "name": "stdout",
     "output_type": "stream",
     "text": [
      "se guardó la tabla de espacios INCAA en /home/leono/prueba/cultura_argentina/Cultura_dataset/cines_INCAA.csv\n"
     ]
    }
   ],
   "source": [
    "# Guardamos la tabla como un archivo .csv\n",
    "path_incaa = os.path.normpath(os.path.join(cines, \"..\", \"..\", \"..\")) + '/cines_INCAA.csv'\n",
    "tabla_INCAA.to_csv(path_incaa, sep=',')\n",
    "\n",
    "print(f'se guardó la tabla de espacios INCAA en {path_incaa}')\n",
    "logging.info(f'se guardó la tabla de espacios INCAA en {path_incaa}')"
   ]
  },
  {
   "cell_type": "markdown",
   "id": "3beb53f3-cf41-4b45-b759-bac6cdddfe7f",
   "metadata": {},
   "source": [
    "### **Eliminamos las columnas que no vamos a utilizar**"
   ]
  },
  {
   "cell_type": "code",
   "execution_count": 114,
   "id": "eb8ded26-12e4-4946-9c73-0810c162ebbd",
   "metadata": {},
   "outputs": [],
   "source": [
    "biblio_final = biblio_df_nan.drop(columns=[col for col in biblio_df_nan if col.capitalize() not in columnas])\n",
    "museos_final = museos_df_nan.drop(columns=[col for col in museos_df_nan if col.capitalize() not in columnas])\n",
    "cines_final = cines_df_nan.drop(columns=[col for col in cines_df_nan if col.capitalize() not in columnas])"
   ]
  },
  {
   "cell_type": "markdown",
   "id": "092c3742-d303-4463-872b-50cca283042d",
   "metadata": {
    "tags": []
   },
   "source": [
    "### **Agregramos la fecha de última modificación de la tabla en la columna 'Ultima_actualización'**  --  No lo hago acá, veremos si lo hacemos cdo usamos SQL"
   ]
  },
  {
   "cell_type": "code",
   "execution_count": 115,
   "id": "8e687592-8e03-4c5b-9c94-8382f0d96f62",
   "metadata": {
    "tags": []
   },
   "outputs": [],
   "source": [
    "# biblio_final['Ultima_actualización'] = biblio_fecha_act\n",
    "# museos_final['Ultima_actualización'] = museo_fecha_act\n",
    "# cines_final['Ultima_actualización'] = cines_fecha_act"
   ]
  },
  {
   "cell_type": "markdown",
   "id": "978d7deb-db95-42b9-a79e-919485cb0223",
   "metadata": {},
   "source": [
    "### **Creamos y guardamos una única tabla**"
   ]
  },
  {
   "cell_type": "code",
   "execution_count": 136,
   "id": "e2b90ae7-a4e0-4b40-9b98-4f71c2c7e41c",
   "metadata": {},
   "outputs": [],
   "source": [
    "tablas = [biblio_final, museos_final, cines_final]\n",
    "tabla_final = pd.concat(tablas, ignore_index=True)\n",
    "#tabla_final.columns"
   ]
  },
  {
   "cell_type": "code",
   "execution_count": 137,
   "id": "3a99df66-f40a-4541-8992-475ccb669da7",
   "metadata": {},
   "outputs": [
    {
     "name": "stdout",
     "output_type": "stream",
     "text": [
      "Se guardó la tabla que convina las 3 categorías en /home/leono/prueba/cultura_argentina/Cultura_dataset/tabla_unica.csv\n"
     ]
    }
   ],
   "source": [
    "path_tabla = os.path.normpath(os.path.join(cines, \"..\", \"..\", \"..\")) + '/tabla_unica.csv'\n",
    "\n",
    "# Eliminamos la columna 'Fuente', que no es necesaria en esta tabla\n",
    "tabla_unica = tabla_final.drop(columns = 'Fuente')\n",
    "tabla_unica.to_csv(path_tabla, sep=',')\n",
    "\n",
    "print(f'Se guardó la tabla que convina las 3 categorías en {path_tabla}')\n",
    "logging.info(f'se guardó la tabla que convina las 3 categorías en {path_tabla}')"
   ]
  },
  {
   "cell_type": "markdown",
   "id": "a782340b-2b23-449f-a977-7d84b483f419",
   "metadata": {},
   "source": [
    "### **Creamos una tabla con las siguientes sub-tablas:**\n",
    " 1) Cantidad de registros totales por categoría\n",
    " 2) Cantidad de registros totales por fuente\n",
    " 3) Cantidad de registros por provincia y categoría\n",
    " \n",
    " usando la tabla final (que tiene la columna 'Fuente')"
   ]
  },
  {
   "cell_type": "code",
   "execution_count": 118,
   "id": "d8057bb8-d1f0-4be8-b89b-4a9f4743e7bb",
   "metadata": {},
   "outputs": [],
   "source": [
    "# path donde se guardará las tablas\n",
    "path_final = os.path.normpath(os.path.join(cines, \"..\", \"..\", \"..\")) + '/datos_conjuntos.csv'"
   ]
  },
  {
   "cell_type": "code",
   "execution_count": 119,
   "id": "6d8fb0ea-c349-4205-a3c7-87168e6e3da1",
   "metadata": {},
   "outputs": [],
   "source": [
    "''' Tabla 1: Cantidad de registros totales por categoría '''\n",
    "reg_por_categoria = tabla_final['Categoría'].value_counts()"
   ]
  },
  {
   "cell_type": "code",
   "execution_count": 120,
   "id": "6106813b-2961-4a01-818a-7eb61a8c8e72",
   "metadata": {},
   "outputs": [],
   "source": [
    "''' Tabla 2: Cantidad de registros totales por fuente '''\n",
    "reg_por_fuente = tabla_final['Fuente'].value_counts()"
   ]
  },
  {
   "cell_type": "code",
   "execution_count": 121,
   "id": "4f2ba63c-32c9-47ff-a0d1-89d6a378ab6e",
   "metadata": {},
   "outputs": [],
   "source": [
    "''' Tabla 3: Cantidad de registros por Provincia y Categoría '''\n",
    "reg_prov_categ = tabla_final.groupby(by=['Provincia', 'Categoría']).size()"
   ]
  },
  {
   "cell_type": "code",
   "execution_count": 139,
   "id": "6feda52b-12f9-49e8-b48c-fb9139f26606",
   "metadata": {
    "tags": []
   },
   "outputs": [
    {
     "name": "stdout",
     "output_type": "stream",
     "text": [
      "se guardaron las 3 tablas juntas en  /home/leono/prueba/cultura_argentina/Cultura_dataset/mas_datos.csv\n"
     ]
    }
   ],
   "source": [
    "''' Guardamos las tres tablas anteriores en un mismo archivo \n",
    "   (según entiendo del enunciado) '''\n",
    "with open(path_final, 'w') as f:\n",
    "    f.write('# Cantidad de registros totales por categoría:')\n",
    "    reg_por_categoria.to_csv(f, header = False, mode = 'a')\n",
    "    f.write('\\n')\n",
    "    f.write('# Cantidad de registros totales por fuente:')\n",
    "    reg_por_fuente.to_csv(f, header = False, mode = 'a')\n",
    "    f.write('\\n')\n",
    "    f.write('# Cantidad de registros por provincia y por categoría:')\n",
    "    reg_prov_categ.to_csv(f, header = False, mode = 'a')\n",
    "\n",
    "print(f'se guardaron las 3 tablas juntas en  {path_final}')\n",
    "logging.info(f'se guardaron las 3 tablas juntas en  {path_final}')"
   ]
  },
  {
   "cell_type": "code",
   "execution_count": 140,
   "id": "45f8087c-c711-414e-8805-218dc071c60b",
   "metadata": {},
   "outputs": [
    {
     "name": "stdout",
     "output_type": "stream",
     "text": [
      " \n",
      "    Terminó el Procesado de Datos (2da parte)\n"
     ]
    }
   ],
   "source": [
    "logging.info('.........Terminó el Procesado de Datos (2da parte)')\n",
    "print(' \\n    Terminó el Procesado de Datos (2da parte)')"
   ]
  },
  {
   "cell_type": "code",
   "execution_count": null,
   "id": "1a8f8037-745c-4e68-8e32-3177c8ad2cbf",
   "metadata": {},
   "outputs": [],
   "source": []
  },
  {
   "cell_type": "code",
   "execution_count": null,
   "id": "cc4309a5-5df5-4a1e-8cbe-ed1fb6cc09d4",
   "metadata": {},
   "outputs": [],
   "source": []
  },
  {
   "cell_type": "code",
   "execution_count": null,
   "id": "4e9c889b-6267-4a79-87c3-263dfafe15d3",
   "metadata": {},
   "outputs": [],
   "source": []
  },
  {
   "cell_type": "code",
   "execution_count": null,
   "id": "0c3d91a2-c5aa-4262-b8eb-720f83cf19c7",
   "metadata": {},
   "outputs": [],
   "source": []
  },
  {
   "cell_type": "markdown",
   "id": "d65e9ccf-95b7-4092-9ec2-581338acc005",
   "metadata": {
    "tags": [],
    "toc-hr-collapsed": true
   },
   "source": [
    "## **PRUEBAS**"
   ]
  },
  {
   "cell_type": "code",
   "execution_count": 124,
   "id": "51e3f6d7-69c8-4033-b97d-75b1c58b8698",
   "metadata": {},
   "outputs": [],
   "source": [
    "# biblio['Número de teléfono'] = biblio['Cod_tel'] + biblio['Número de teléfono']\n",
    "#     # Correr una sóla vez, xq sino da error si se corre por segunda vez sobre la Serie ya modificada\n",
    "# museos['Número de teléfono'] = museos['codigo_indicativo_telefono'].astype('Int64').astype(str) + museos['Número de teléfono'].astype('Int64').astype(str)\n",
    "# museos['Número de teléfono'] = museos['Número de teléfono'].replace('<NA><NA>', 'nan')\n",
    "# museos['Número de teléfono']"
   ]
  },
  {
   "cell_type": "code",
   "execution_count": null,
   "id": "868758b8-0d8d-4dad-9f34-3c55d6cf7e6d",
   "metadata": {},
   "outputs": [],
   "source": []
  },
  {
   "cell_type": "code",
   "execution_count": null,
   "id": "fc15f205-5092-442c-b0a6-19298d40ab23",
   "metadata": {},
   "outputs": [],
   "source": []
  },
  {
   "cell_type": "markdown",
   "id": "a81b9786-893f-4663-b714-573dbda2276d",
   "metadata": {
    "jp-MarkdownHeadingCollapsed": true,
    "tags": []
   },
   "source": [
    "### Unimos Domicilio con el piso ( si lo tiene)"
   ]
  },
  {
   "cell_type": "code",
   "execution_count": 125,
   "id": "e20eefd4-ce7e-4439-a60e-c82744d905f2",
   "metadata": {},
   "outputs": [],
   "source": [
    "# # Unimos el Domicilio con el Piso (si lo tiene)\n",
    "# pp = cines['Piso'].astype(str)\n",
    "\n",
    "# for idx in range(len(cines)):\n",
    "#     if 'nan' in pp[idx]:\n",
    "#         cines.loc[idx, 'Domicilio'] = cines['Domicilio'][idx]\n",
    "#     else:\n",
    "#         cines.loc[idx, 'Domicilio'] = cines['Domicilio'][idx] + ', ' + pp[idx]"
   ]
  },
  {
   "cell_type": "markdown",
   "id": "9a63cbb0-6bf2-4c7c-8830-f4863bd6c2aa",
   "metadata": {
    "jp-MarkdownHeadingCollapsed": true,
    "tags": []
   },
   "source": [
    "### Modificamos el código postal para que sea sólo números"
   ]
  },
  {
   "cell_type": "code",
   "execution_count": 126,
   "id": "17145478-d1d3-48ae-bfa9-bc7379ea2c64",
   "metadata": {},
   "outputs": [],
   "source": [
    "# if cines_col['Código Postal'].dtype != int:\n",
    "#     cines_col['Código Postal'] = cines_col['Código Postal'].str.replace(r\"[a-zA-Z]\", '', regex=True)"
   ]
  },
  {
   "cell_type": "code",
   "execution_count": 127,
   "id": "9d4a3344-fe46-4ea2-a327-746c1e9e9b93",
   "metadata": {},
   "outputs": [],
   "source": [
    "# if museos_col['Código Postal'].dtype != int:\n",
    "#     museos_col['Código Postal'] = museos_col['Código Postal'].str.replace(r\"[a-zA-Z]\", '', regex=True)"
   ]
  },
  {
   "cell_type": "markdown",
   "id": "0843bfc7-2e05-4d33-87f7-b23c67b41ac7",
   "metadata": {
    "tags": []
   },
   "source": [
    "### en MUSEOS \n",
    "2) Analizamos si hay relación entre los Cod_localidad y los Id_departamento en las tablas biblioteca y cines"
   ]
  },
  {
   "cell_type": "code",
   "execution_count": 128,
   "id": "76764e21-db8a-4bb3-80c7-e61d690d9a92",
   "metadata": {},
   "outputs": [],
   "source": [
    "# b = biblio[['Cod_localidad', 'Id_provincia', 'Id_departamento', 'Provincia', 'Departamento', 'Localidad']]\n",
    "# # print(b.columns)\n",
    "\n",
    "# # Probemos si los 'Id_departamento' son iguales al 'Cod_localidad', sacandole los últimos 3 digitos a éste último.\n",
    "# for i in range(len(b)):\n",
    "#     if int(str(b['Cod_localidad'][i])[:-3]) != b['Id_departamento'][i]:\n",
    "#         print('Error en la sgte línea: ', i, b['Cod_localidad'][i], b['Id_departamento'][i], b['Departamento'][i], b['Localidad'][i] )"
   ]
  },
  {
   "cell_type": "code",
   "execution_count": 129,
   "id": "b09bfb44-3ce2-4060-83e0-48c1d22380ee",
   "metadata": {},
   "outputs": [],
   "source": [
    "# c = cines[['Cod_localidad', 'Id_provincia', 'Id_departamento', 'Provincia', 'Departamento', 'Localidad']]\n",
    "# # print(c.columns)\n",
    "\n",
    "# # Probemos si los 'Id_departamento' son iguales al 'Cod_localidad', sacandole los últimos 3 digitos a éste último.\n",
    "# for i in range(len(c)):\n",
    "#     if int(str(c['Cod_localidad'][i])[:-3]) != c['Id_departamento'][i]:\n",
    "#         print('Error en la sgte línea: ', i, c['Cod_localidad'][i], c['Id_departamento'][i], c['Departamento'][i], c['Localidad'][i] )"
   ]
  },
  {
   "cell_type": "markdown",
   "id": "0a00d1ac-f502-48f1-befb-584904b0162b",
   "metadata": {},
   "source": [
    "Se ve que sl Cod_localidad e Id_departamento están relacionados. \n",
    "\n",
    "- Se ve que si le sacamos los últimos 3 digitos al Cod_localidad obtenemos el Id_departamento\n",
    "- En la tabla cines se encuentran 2 errores en las filas: 70 y 304. Parece q está mal departamento de Haedo y El Palomar y por lo tanto el id_dpto.\n",
    " - Link a la tabla de datos del INDEC sobre códigos de localidades \n",
    "https://redatam.indec.gob.ar/redarg/CENSOS/CPV2010rad/Docs/codigos_provincias.pdf?_ga=2.242401410.1865600674.1640183183-1178966641.1640183183"
   ]
  },
  {
   "cell_type": "markdown",
   "id": "3c523643-3225-47c3-b12a-dff8d481d41e",
   "metadata": {},
   "source": [
    "3) Ahora comparemos la tabla biblioteca con la museos. "
   ]
  },
  {
   "cell_type": "code",
   "execution_count": 130,
   "id": "e67e4712-96bb-4991-b18d-af090b600894",
   "metadata": {},
   "outputs": [],
   "source": [
    "# m = museos[['espacio_cultural_id', 'Id_provincia', 'Cod_localidad', 'Provincia', 'Localidad']]"
   ]
  },
  {
   "cell_type": "code",
   "execution_count": 131,
   "id": "d217749e-0a9e-4e77-b77d-e29cebf587e5",
   "metadata": {},
   "outputs": [],
   "source": [
    "# # Fusionemos la tabla 'biblioteca' y 'museos'\n",
    "# pd.merge(b,m, on=['Provincia','Id_provincia','Localidad']).head(5)"
   ]
  },
  {
   "cell_type": "markdown",
   "id": "18ba98f4-1291-467f-9bcb-53be80b18ef7",
   "metadata": {},
   "source": [
    " Parece correcto que el codigo de localidad sin los últimos 3 digitos sea el id del departamnto !!!"
   ]
  },
  {
   "cell_type": "markdown",
   "id": "4e6c1989-bd20-4177-9fe7-e3828e67ab65",
   "metadata": {},
   "source": [
    " 4) Agregamos la columna Categoría e Id_departamento a la tabla Museos"
   ]
  },
  {
   "cell_type": "code",
   "execution_count": 132,
   "id": "e693037e-cee5-464a-a11c-0570c5a92be1",
   "metadata": {
    "tags": []
   },
   "outputs": [],
   "source": [
    "# # Agregamos la columna 'Id_departamento' a partir del Código de Localidad.\n",
    "# for ind in range(len(museos)):\n",
    "#     museos.loc[ind, 'Id_departamento'] = int(str(museos['Cod_localidad'][ind])[:-3])\n",
    "\n",
    "# museos['Id_departamento'] = museos['Id_departamento'].astype('Int64')\n",
    "\n",
    "# # # Agregamos la columna 'Categoría' = Museos\n",
    "# museos['Categoría'] = 'Museos'\n",
    "# type(museos)"
   ]
  },
  {
   "cell_type": "code",
   "execution_count": 133,
   "id": "922a089f-3b89-43cf-8ddb-d18e7ba52596",
   "metadata": {},
   "outputs": [],
   "source": [
    "# museos.columns"
   ]
  },
  {
   "cell_type": "code",
   "execution_count": null,
   "id": "019d68f8-0ed6-4deb-bac2-ae7fe2fd597a",
   "metadata": {},
   "outputs": [],
   "source": []
  },
  {
   "cell_type": "code",
   "execution_count": null,
   "id": "2c1d8b2f-becb-493c-8a65-28da241f44fc",
   "metadata": {},
   "outputs": [],
   "source": []
  }
 ],
 "metadata": {
  "kernelspec": {
   "display_name": "Python 3 (ipykernel)",
   "language": "python",
   "name": "python3"
  },
  "language_info": {
   "codemirror_mode": {
    "name": "ipython",
    "version": 3
   },
   "file_extension": ".py",
   "mimetype": "text/x-python",
   "name": "python",
   "nbconvert_exporter": "python",
   "pygments_lexer": "ipython3",
   "version": "3.8.11"
  },
  "toc-autonumbering": false
 },
 "nbformat": 4,
 "nbformat_minor": 5
}
