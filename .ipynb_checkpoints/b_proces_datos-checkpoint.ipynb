{
 "cells": [
  {
   "cell_type": "markdown",
   "id": "7f90e335-445b-4f38-90ae-5ecce2a53778",
   "metadata": {},
   "source": [
    "# **Challenge - Data Analytics**"
   ]
  },
  {
   "cell_type": "markdown",
   "id": "1c3b929f-d48b-40b8-96cb-3093e3022056",
   "metadata": {
    "tags": []
   },
   "source": [
    "# **Parte 2**"
   ]
  },
  {
   "cell_type": "markdown",
   "id": "d1db6d92-2944-4b89-b0f7-907ff9c85aa9",
   "metadata": {
    "tags": []
   },
   "source": [
    "## **1) Importamos librerías**"
   ]
  },
  {
   "cell_type": "code",
   "execution_count": 1,
   "id": "c4c6ca33-df99-460a-b13c-8275eba28ebf",
   "metadata": {},
   "outputs": [],
   "source": [
    "### Cargamos las librerías\n",
    "import utils\n",
    "import glob\n",
    "import chardet\n",
    "import pandas as pd\n",
    "import numpy as np\n",
    "import os\n",
    "import logging"
   ]
  },
  {
   "cell_type": "markdown",
   "id": "cdedcf63-c5a3-4c8a-b95d-f5a165f22ac6",
   "metadata": {
    "tags": []
   },
   "source": [
    "## **2) Programa principal**"
   ]
  },
  {
   "cell_type": "code",
   "execution_count": 2,
   "id": "de28e239-d806-4e21-a40f-6e98e0da0bd6",
   "metadata": {},
   "outputs": [],
   "source": [
    "# Usamos el archivo info.LOG creado anteriormente\n",
    "logging.basicConfig(filename= 'info.log', format='%(asctime)s : %(levelname)s : %(message)s',\n",
    "                    datefmt='%d/%m/%y %H:%M:%S', level=logging.INFO,\n",
    "                    filemode = 'a', force=True)\n",
    "logging.info('EJECUTANDO LA PARTE 2 (2do archivo....')"
   ]
  },
  {
   "cell_type": "code",
   "execution_count": 3,
   "id": "ed187696-48a4-45be-9de2-75bd44e931af",
   "metadata": {
    "tags": []
   },
   "outputs": [],
   "source": [
    "# Archivos a procesar:\n",
    "archivos = utils.buscar_archivos()"
   ]
  },
  {
   "cell_type": "markdown",
   "id": "4cb67994-77fd-46ac-8a5f-12b067bbaadf",
   "metadata": {},
   "source": [
    "### **Abrimos archivos y reemplazamos 's/d' por np.NaN**"
   ]
  },
  {
   "cell_type": "code",
   "execution_count": 4,
   "id": "21b9446b-8093-4496-871e-e67d3a8f7c5c",
   "metadata": {},
   "outputs": [],
   "source": [
    "# Asignamos nombres a los archivos\n",
    "biblio = archivos[0]\n",
    "museos = archivos[1]\n",
    "cines = archivos[2]\n",
    "\n",
    "# Abrimos los archivos en formato DataFrame y dtype=string\n",
    "biblio_df = utils.leer_archivos_DF(biblio)\n",
    "museos_df = utils.leer_archivos_DF(museos)\n",
    "cines_df = utils.leer_archivos_DF(cines)\n",
    "\n",
    "# Reemplazamos los 's/d' por np.NaN\n",
    "biblio_df_nan = utils.reemplazo_sd_NaN(biblio_df)\n",
    "museos_df_nan = utils.reemplazo_sd_NaN(museos_df)\n",
    "cines_df_nan = utils.reemplazo_sd_NaN(cines_df)"
   ]
  },
  {
   "cell_type": "markdown",
   "id": "e2b0c46e-1b2b-491e-8de8-732d22a90947",
   "metadata": {
    "tags": []
   },
   "source": [
    "### **Modificamos los nombres de las columnas**"
   ]
  },
  {
   "cell_type": "code",
   "execution_count": 5,
   "id": "a197955a-50c5-4921-8d00-1dbef2e86c7d",
   "metadata": {},
   "outputs": [],
   "source": [
    "# Nombre de las columnas dadas en el enunciado del Challenge:\n",
    "columnas = ['Cod_localidad', 'Id_provincia', 'Id_departamento',\n",
    "                'Categoría', 'Provincia', 'Localidad', 'Nombre', \n",
    "                'Domicilio', 'Código postal', 'Número de teléfono',\n",
    "                'Email', 'Web', 'Fuente']"
   ]
  },
  {
   "cell_type": "code",
   "execution_count": 6,
   "id": "77433c60-94ce-4067-b7bb-348731d2a4ab",
   "metadata": {},
   "outputs": [],
   "source": [
    "'''  Bibliotecas Populares '''\n",
    "biblio_df_nan.rename(columns={'Cod_Loc':columnas[0], 'IdProvincia':columnas[1],\n",
    "                              'IdDepartamento':columnas[2], 'Categoría':columnas[3],\n",
    "                              'Provincia':columnas[4], 'Localidad':columnas[5], \n",
    "                              'Nombre':columnas[6], 'Domicilio':columnas[7],\n",
    "                              'CP':columnas[8], 'Teléfono':columnas[9],\n",
    "                              'Mail':columnas[10], 'Web':columnas[11]},\n",
    "                     inplace=True)\n",
    "    \n",
    "'''  Museos '''\n",
    "museos_df_nan.rename(columns={'localidad_id':columnas[0], 'provincia_id':columnas[1],\n",
    "                              'provincia':columnas[4], 'localidad':columnas[5], \n",
    "                              'nombre':columnas[6], 'direccion':columnas[7],\n",
    "                              'codigo_postal':columnas[8], 'telefono':columnas[9],\n",
    "                              'mail':columnas[10], 'web':columnas[11], 'fuente':columnas[12]},\n",
    "                     inplace=True)\n",
    "\n",
    "# Agregamos la columna 'Id_departamento' a partir del Código de Localidad y la columna 'Categoría' = 'Museos'\n",
    "for ind in range(len(museos_df_nan)):\n",
    "    museos_df_nan.loc[ind, 'Id_departamento'] = int(str(museos_df_nan['Cod_localidad'][ind])[:-3])\n",
    "\n",
    "museos_df_nan['Id_departamento'] = museos_df_nan['Id_departamento'].astype('Int64')\n",
    "museos_df_nan['Categoría'] = 'Museos'\n",
    "\n",
    "'''  Cines '''\n",
    "cines_df_nan.rename(columns={'Cod_Loc':columnas[0], 'IdProvincia':columnas[1],\n",
    "                             'IdDepartamento':columnas[2], 'Categoría':columnas[3],\n",
    "                             'Provincia':columnas[4], 'Localidad':columnas[5], \n",
    "                             'Nombre':columnas[6], 'Dirección':columnas[7],\n",
    "                             'CP':columnas[8], 'Teléfono':columnas[9],\n",
    "                             'Mail':columnas[10], 'Web':columnas[11]},\n",
    "                    inplace=True)"
   ]
  },
  {
   "cell_type": "markdown",
   "id": "0d98f6cd-80a1-4945-8519-181e77b6c14e",
   "metadata": {},
   "source": [
    "### **Modificamos y estandarizamos los nombres de las Provincias**\n",
    "\n",
    "**NOTA**: Nuestro país está dividido en 24 jurisdicciones: 23 provincias y un distrito federal (Ciudad Autónoma de Buenos Aires). Tomaremos al distrito federal (CABA) como la 24ta provincia."
   ]
  },
  {
   "cell_type": "code",
   "execution_count": 7,
   "id": "e4abb279-dab8-41dc-a995-8b00227837c8",
   "metadata": {},
   "outputs": [],
   "source": [
    "biblio_df_nan = utils.corregir_provincias(biblio_df_nan, 'Provincia')\n",
    "museos_df_nan = utils.corregir_provincias(museos_df_nan, 'Provincia')\n",
    "cines_df_nan = utils.corregir_provincias(cines_df_nan, 'Provincia')"
   ]
  },
  {
   "cell_type": "markdown",
   "id": "5477f5f8-7fae-44e1-b074-1abe21b0644a",
   "metadata": {
    "tags": []
   },
   "source": [
    "### **Unimos el código de área con el número de teléfono**\n",
    "\n",
    "Si hay algún error, verificar si no cambiaron los nombres de las columnas."
   ]
  },
  {
   "cell_type": "code",
   "execution_count": 8,
   "id": "713419e8-d81d-411d-9fd8-c9bbec7dcc7d",
   "metadata": {},
   "outputs": [],
   "source": [
    "# No hago función porq es una línea para c/tabla\n",
    "biblio_df_nan['Número de teléfono'] = biblio_df_nan['Cod_tel'] + biblio_df_nan['Número de teléfono']  # queda 11 en lugar de 011\n",
    "museos_df_nan['Número de teléfono'] = museos_df_nan['codigo_indicativo_telefono'] + museos_df_nan['Número de teléfono']  # queda el 011 en lugar de 11\n",
    "cines_df_nan['Número de teléfono'] = cines_df_nan['cod_area'] + cines_df_nan['Número de teléfono']  # queda 11 en lugar de 011"
   ]
  },
  {
   "cell_type": "markdown",
   "id": "57f8227d-d01c-4b99-95e9-7f60fc962391",
   "metadata": {},
   "source": [
    "### **Creamos tabla con información sobre los Cines**"
   ]
  },
  {
   "cell_type": "code",
   "execution_count": 9,
   "id": "a1c69110-2126-4b67-8177-15a2230b559a",
   "metadata": {},
   "outputs": [],
   "source": [
    "# Estandarizamos los valores que puede tomar la columna 'espacio_INCAA': sólo 0's y 1's (No y Si)\n",
    "cines_df_nan['espacio_INCAA'].replace(['si','Si','SI', '1'], 1, inplace=True)\n",
    "cines_df_nan['espacio_INCAA'].replace(['nan','0',np.NaN, 'no', 'NO', 'No'], 0, inplace=True)\n",
    "if len(cines_df_nan['espacio_INCAA'].unique()) != 2: \n",
    "    print('Error en la estandarización INCAA')  # verificar q sólo hay 1 y 0\n",
    "    print('Verificar que valor no se modificó por 0 o 1')\n",
    "    print(cines_df_nan['espacio_INCAA'].unique())\n"
   ]
  },
  {
   "cell_type": "code",
   "execution_count": 10,
   "id": "9a56729a-30f2-473b-a8f2-f2ddfa095f57",
   "metadata": {
    "tags": []
   },
   "outputs": [],
   "source": [
    "# Cambiamos el dtype de algunas columnas (sino algunas dan error)\n",
    "cols = ['Provincia', 'Pantallas', 'Butacas', 'espacio_INCAA']\n",
    "cines_INCAA = cines_df_nan.astype({'Pantallas':'int', 'Butacas':'int', 'espacio_INCAA':'int'})"
   ]
  },
  {
   "cell_type": "code",
   "execution_count": 11,
   "id": "cfc09a73-f7bf-4dc7-bb3a-9797ec525cc3",
   "metadata": {},
   "outputs": [],
   "source": [
    "# Agrupamos por provincia y calculamos la cantidad de Pantallas, Butacas y espacios INCAA que hay.\n",
    "tabla_INCAA = cines_INCAA[cols].groupby(by='Provincia').sum().sort_values(by='Pantallas', ascending=False)"
   ]
  },
  {
   "cell_type": "code",
   "execution_count": 12,
   "id": "971aef9e-1125-4c8a-9f2f-80b9588b3b48",
   "metadata": {},
   "outputs": [
    {
     "name": "stdout",
     "output_type": "stream",
     "text": [
      "se guardó la tabla de espacios INCAA en /home/leono/prueba/cultura_argentina/Cultura_dataset/cines_INCAA.csv\n"
     ]
    }
   ],
   "source": [
    "# Guardamos la tabla como un archivo .csv\n",
    "path_incaa = os.path.normpath(os.path.join(cines, \"..\", \"..\", \"..\")) + '/cines_INCAA.csv'\n",
    "tabla_INCAA.to_csv(path_incaa, sep=',')\n",
    "\n",
    "print(f'se guardó la tabla de espacios INCAA en {path_incaa}')\n",
    "logging.info(f'se guardó la tabla de espacios INCAA en {path_incaa}')"
   ]
  },
  {
   "cell_type": "markdown",
   "id": "3beb53f3-cf41-4b45-b759-bac6cdddfe7f",
   "metadata": {},
   "source": [
    "### **Eliminamos las columnas que no vamos a utilizar**"
   ]
  },
  {
   "cell_type": "code",
   "execution_count": 13,
   "id": "eb8ded26-12e4-4946-9c73-0810c162ebbd",
   "metadata": {},
   "outputs": [],
   "source": [
    "biblio_final = biblio_df_nan.drop(columns=[col for col in biblio_df_nan if col.capitalize() not in columnas])\n",
    "museos_final = museos_df_nan.drop(columns=[col for col in museos_df_nan if col.capitalize() not in columnas])\n",
    "cines_final = cines_df_nan.drop(columns=[col for col in cines_df_nan if col.capitalize() not in columnas])"
   ]
  },
  {
   "cell_type": "markdown",
   "id": "978d7deb-db95-42b9-a79e-919485cb0223",
   "metadata": {},
   "source": [
    "### **Creamos la tabla única con los datos de las tres categorías**"
   ]
  },
  {
   "cell_type": "code",
   "execution_count": 22,
   "id": "e2b90ae7-a4e0-4b40-9b98-4f71c2c7e41c",
   "metadata": {},
   "outputs": [],
   "source": [
    "# Unimos las tres tablas en una única tabla\n",
    "tablas = [biblio_final, museos_final, cines_final]\n",
    "tabla_final = pd.concat(tablas, ignore_index=True)"
   ]
  },
  {
   "cell_type": "code",
   "execution_count": 25,
   "id": "3a99df66-f40a-4541-8992-475ccb669da7",
   "metadata": {},
   "outputs": [
    {
     "name": "stdout",
     "output_type": "stream",
     "text": [
      "Se guardó la tabla que combina las 3 categorías en /home/leono/prueba/cultura_argentina/Cultura_dataset/tabla_unica.csv\n"
     ]
    }
   ],
   "source": [
    "# Eliminamos la columna 'Fuente' (no es necesaria en esta tabla)\n",
    "tabla_unica = tabla_final.drop(columns = 'Fuente')\n",
    "\n",
    "# Guardamos la tabla única  como un archivo .csv\n",
    "path_tabla = os.path.normpath(os.path.join(cines, \"..\", \"..\", \"..\")) + '/tabla_unica.csv'\n",
    "tabla_unica.to_csv(path_tabla, sep=',', index=False)\n",
    "\n",
    "print(f'Se guardó la tabla que combina las 3 categorías en {path_tabla}')\n",
    "logging.info(f'se guardó la tabla que combina las 3 categorías en {path_tabla}')"
   ]
  },
  {
   "cell_type": "markdown",
   "id": "a782340b-2b23-449f-a977-7d84b483f419",
   "metadata": {},
   "source": [
    "### **Creamos una tabla con las siguientes sub-tablas:**\n",
    " 1) Cantidad de registros totales por categoría\n",
    " 2) Cantidad de registros totales por fuente\n",
    " 3) Cantidad de registros por provincia y categoría\n",
    " \n",
    " usando la tabla final (que tiene la columna 'Fuente')"
   ]
  },
  {
   "cell_type": "code",
   "execution_count": 16,
   "id": "d8057bb8-d1f0-4be8-b89b-4a9f4743e7bb",
   "metadata": {},
   "outputs": [],
   "source": [
    "# path donde se guardará las tablas\n",
    "path_final = os.path.normpath(os.path.join(cines, \"..\", \"..\", \"..\")) + '/datos_conjuntos.csv'"
   ]
  },
  {
   "cell_type": "code",
   "execution_count": 17,
   "id": "6d8fb0ea-c349-4205-a3c7-87168e6e3da1",
   "metadata": {},
   "outputs": [],
   "source": [
    "# Tabla 1: Cantidad de registros totales por categoría\n",
    "reg_por_categoria = tabla_final['Categoría'].value_counts()\n",
    "\n",
    "# Tabla 2: Cantidad de registros totales por fuente\n",
    "reg_por_fuente = tabla_final['Fuente'].value_counts()\n",
    "\n",
    "# Tabla 3: Cantidad de registros por Provincia y Categoría\n",
    "reg_prov_categ = tabla_final.groupby(by=['Provincia', 'Categoría']).size()"
   ]
  },
  {
   "cell_type": "code",
   "execution_count": 20,
   "id": "6feda52b-12f9-49e8-b48c-fb9139f26606",
   "metadata": {
    "tags": []
   },
   "outputs": [
    {
     "name": "stdout",
     "output_type": "stream",
     "text": [
      "se guardaron 3 tablas en un mismo archivo, en  /home/leono/prueba/cultura_argentina/Cultura_dataset/datos_conjuntos.csv\n"
     ]
    }
   ],
   "source": [
    "# Guardamos las tres tablas anteriores en una misma tabla\n",
    "path_final = os.path.normpath(os.path.join(cines, \"..\", \"..\", \"..\")) + '/datos_conjuntos.csv'\n",
    "with open(path_final, 'w') as f:\n",
    "    f.write('# Cantidad de registros totales por categoría:\\n')\n",
    "    reg_por_categoria.to_csv(f, header = False, mode = 'a')\n",
    "    f.write('\\n')\n",
    "    f.write('# Cantidad de registros totales por fuente:\\n')\n",
    "    reg_por_fuente.to_csv(f, header = False, mode = 'a')\n",
    "    f.write('\\n')\n",
    "    f.write('# Cantidad de registros por provincia y por categoría:\\n')\n",
    "    reg_prov_categ.to_csv(f, header = False, mode = 'a')\n",
    "\n",
    "print(f'se guardaron 3 tablas en un mismo archivo, en  {path_final}')\n",
    "logging.info(f'se guardaron las 3 tablas juntas en  {path_final}')"
   ]
  },
  {
   "cell_type": "code",
   "execution_count": 21,
   "id": "45f8087c-c711-414e-8805-218dc071c60b",
   "metadata": {},
   "outputs": [
    {
     "name": "stdout",
     "output_type": "stream",
     "text": [
      " \n",
      "    Terminó el Procesado de Datos (2da parte)\n"
     ]
    }
   ],
   "source": [
    "logging.info('.........Terminó el Procesado de Datos (2da parte)')\n",
    "print(' \\n    Terminó el Procesado de Datos (2da parte)')"
   ]
  },
  {
   "cell_type": "code",
   "execution_count": null,
   "id": "38b97167-3a52-4001-9b9d-db1cdad1cf78",
   "metadata": {},
   "outputs": [],
   "source": []
  }
 ],
 "metadata": {
  "kernelspec": {
   "display_name": "Python 3 (ipykernel)",
   "language": "python",
   "name": "python3"
  },
  "language_info": {
   "codemirror_mode": {
    "name": "ipython",
    "version": 3
   },
   "file_extension": ".py",
   "mimetype": "text/x-python",
   "name": "python",
   "nbconvert_exporter": "python",
   "pygments_lexer": "ipython3",
   "version": "3.8.11"
  },
  "toc-autonumbering": false
 },
 "nbformat": 4,
 "nbformat_minor": 5
}
