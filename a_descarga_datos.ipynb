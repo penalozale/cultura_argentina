{
 "cells": [
  {
   "cell_type": "markdown",
   "id": "cf16eafc-2216-491e-ba63-176f5c2fadeb",
   "metadata": {
    "tags": []
   },
   "source": [
    "# **Challenge - Data Analytics**"
   ]
  },
  {
   "cell_type": "markdown",
   "id": "66b6c3a4-23d2-4f26-849b-c095d72557f1",
   "metadata": {},
   "source": [
    "# **Parte 1**"
   ]
  },
  {
   "cell_type": "markdown",
   "id": "1f98b638-dbe6-4d92-8ad0-f95f3ecdec76",
   "metadata": {},
   "source": [
    "## **1) Importamos librerías**"
   ]
  },
  {
   "cell_type": "code",
   "execution_count": 1,
   "id": "8de5a8a3-5fda-48ff-b036-e04a09c84c10",
   "metadata": {},
   "outputs": [
    {
     "data": {
      "text/plain": [
       "'es_ES.UTF-8'"
      ]
     },
     "execution_count": 1,
     "metadata": {},
     "output_type": "execute_result"
    }
   ],
   "source": [
    "import utils\n",
    "import logging\n",
    "import locale\n",
    "# Seteamos el idioma español\n",
    "locale.setlocale(locale.LC_ALL,'es_ES.UTF-8')"
   ]
  },
  {
   "cell_type": "markdown",
   "id": "abc4af6a-f701-441b-af91-1a98af1dcc80",
   "metadata": {},
   "source": [
    "## **2) Programa principal**"
   ]
  },
  {
   "cell_type": "code",
   "execution_count": 2,
   "id": "5c5a6b6e-e9cf-4956-80ad-710b97602dde",
   "metadata": {
    "tags": []
   },
   "outputs": [],
   "source": [
    "''' URLs dadas:\n",
    "No es la url directa a la tabla, sino que tenemos que buscarla.'''\n",
    "\n",
    "url_museos = 'https://datos.gob.ar/dataset/cultura-mapa-cultural-espacios-culturales/archivo/cultura_4207def0-2ff7-41d5-9095-d42ae8207a5d'\n",
    "url_cines = 'https://datos.gob.ar/dataset/cultura-mapa-cultural-espacios-culturales/archivo/cultura_392ce1a8-ef11-4776-b280-6f1c7fae16ae'\n",
    "url_bibliotecas = 'https://datos.gob.ar/dataset/cultura-mapa-cultural-espacios-culturales/archivo/cultura_01c6c048-dbeb-44e0-8efa-6944f73715d7'"
   ]
  },
  {
   "cell_type": "code",
   "execution_count": 3,
   "id": "c284bf7e-d160-4ef5-89db-b3c3a0aca74d",
   "metadata": {},
   "outputs": [],
   "source": [
    "urls = ['url_museos', 'url_cines', 'url_bibliotecas']"
   ]
  },
  {
   "cell_type": "code",
   "execution_count": 5,
   "id": "a80d79ac-5738-4ac8-a26a-fb8a1403d2c7",
   "metadata": {
    "tags": []
   },
   "outputs": [
    {
     "name": "stdout",
     "output_type": "stream",
     "text": [
      "Descargando url_museos ...\n",
      "Descargando url_cines ...\n",
      "Descargando url_bibliotecas ...\n",
      "\n",
      "...... Terminó la descarga de las tablas (1ra Parte) \n"
     ]
    }
   ],
   "source": [
    "# Creamos el archivo info.LOG \n",
    "logging.basicConfig(filename= 'info.log', format='%(asctime)s : %(levelname)s : %(message)s',\n",
    "                    datefmt='%d/%m/%y %H:%M:%S', level=logging.INFO,\n",
    "                    filemode = 'w', force=True)\n",
    "logging.info('EJECUTANDO LA PARTE 1 (1er archivo.... ')\n",
    "\n",
    "# Ejecutamos las funciones para descargar las tablas de datos\n",
    "for site in urls:\n",
    "    print(f'Descargando {site} ...')\n",
    "    link = utils.obtener_link(eval(site))\n",
    "    tabla = utils.descargar_tabla(link)\n",
    "    path = utils.file_path(link)    \n",
    "    utils.guardar_archivo_bin(path, tabla)\n",
    "\n",
    "logging.info('...... Terminó la descarga de las tablas (1ra Parte) ')\n",
    "print('\\n...... Terminó la descarga de las tablas (1ra Parte) ')"
   ]
  },
  {
   "cell_type": "code",
   "execution_count": null,
   "id": "2c856634-4dae-440f-988a-ee97023c0a31",
   "metadata": {},
   "outputs": [],
   "source": []
  }
 ],
 "metadata": {
  "kernelspec": {
   "display_name": "Python 3 (ipykernel)",
   "language": "python",
   "name": "python3"
  },
  "language_info": {
   "codemirror_mode": {
    "name": "ipython",
    "version": 3
   },
   "file_extension": ".py",
   "mimetype": "text/x-python",
   "name": "python",
   "nbconvert_exporter": "python",
   "pygments_lexer": "ipython3",
   "version": "3.8.11"
  }
 },
 "nbformat": 4,
 "nbformat_minor": 5
}
