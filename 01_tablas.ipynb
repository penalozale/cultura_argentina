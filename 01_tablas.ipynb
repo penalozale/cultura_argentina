{
 "cells": [
  {
   "cell_type": "markdown",
   "id": "cf16eafc-2216-491e-ba63-176f5c2fadeb",
   "metadata": {
    "tags": []
   },
   "source": [
    "# **Challenge - Alkemy**"
   ]
  },
  {
   "cell_type": "markdown",
   "id": "66b6c3a4-23d2-4f26-849b-c095d72557f1",
   "metadata": {},
   "source": [
    "# **Parte 1 - Requerimiento Funcional - Archivos Fuentes**\n",
    "1) Para descargar las tablas desde el sitio web debemos tener instalada la librería \"requests\"\n",
    "    - Windows: debemos tener instalado python. Luego, abrir una terminal y escribir lo siguiente: python -m pip install requests\n",
    "    - Linux: desde la terminal: pip install requests\n",
    "2) Importamos las librerias a utilizar\n",
    "3) Cargamos las funciones que vamos a utilizar\n",
    "4) Ejecutamos"
   ]
  },
  {
   "cell_type": "markdown",
   "id": "519bebc9-7366-48a3-b16d-010713a442e6",
   "metadata": {},
   "source": [
    "## **1) Instalamos librerias**"
   ]
  },
  {
   "cell_type": "code",
   "execution_count": 18,
   "id": "e5815e4b-8d6e-42c8-b961-8283941f96a2",
   "metadata": {},
   "outputs": [],
   "source": [
    "# En Linux:\n",
    "#!pip install requests\n",
    "#!pip install logging"
   ]
  },
  {
   "cell_type": "markdown",
   "id": "1f98b638-dbe6-4d92-8ad0-f95f3ecdec76",
   "metadata": {},
   "source": [
    "## **2) Importamos librerías a utilizar:**"
   ]
  },
  {
   "cell_type": "code",
   "execution_count": 19,
   "id": "8de5a8a3-5fda-48ff-b036-e04a09c84c10",
   "metadata": {},
   "outputs": [
    {
     "data": {
      "text/plain": [
       "'es_ES.UTF-8'"
      ]
     },
     "execution_count": 19,
     "metadata": {},
     "output_type": "execute_result"
    }
   ],
   "source": [
    "import requests   \n",
    "import re    # Regular Expression module: re.search, findall, \n",
    "import os    # path.join\n",
    "import sys   # sys.exit()\n",
    "from datetime import datetime, date\n",
    "import logging\n",
    "\n",
    "# Seteamos el idioma español para las fechas (funciones: fecha_ultimo_cambio y file_path)\n",
    "import locale\n",
    "locale.setlocale(locale.LC_ALL,'es_ES.UTF-8')"
   ]
  },
  {
   "cell_type": "markdown",
   "id": "7c7a3907-277c-479f-8d36-86e896af05ca",
   "metadata": {
    "tags": []
   },
   "source": [
    "## **3) Funciones a Utilizar**"
   ]
  },
  {
   "cell_type": "code",
   "execution_count": 20,
   "id": "274ecac2-6caa-46cc-a6ae-7e20dc064f64",
   "metadata": {},
   "outputs": [],
   "source": [
    "def requests_get_OK(web):\n",
    "    ''' Verifica el código de estado de la respuesta de requests.get\n",
    "        \n",
    "    INPUT: web: es objeto Response que se obtiene al ejecutar: requests.get(url)\n",
    "    OUTPUT: código del estado del request\n",
    "    '''\n",
    "    codigo = web.status_code   # si el valor es 200 significa que funcionó el \"requests.get\"\n",
    "    if  codigo == 200:\n",
    "        logging.info(f'Requests Exitoso del link.')   # si el link es el del archivo, saco el nombre de ahí con split\n",
    "    elif codigo == 504:\n",
    "        logging.warning(f'Falla del Servidor. Error: {codigo} Gateway Time-out')\n",
    "        sys.exit(f'Falla del Servidor. Vuelva a intentar. Error: {codigo} Gateway Time-out')\n",
    "    else:\n",
    "        logging.warning(f'Falló el Requests. Error: {codigo}') \n",
    "        sys.exit(f'Falló el Requests. Error: {codigo}')\n",
    "    \n",
    "    return"
   ]
  },
  {
   "cell_type": "code",
   "execution_count": 21,
   "id": "d194c9a0-82f6-41fd-9718-690f7ec7755c",
   "metadata": {},
   "outputs": [],
   "source": [
    "def obtener_link(url_pagina):\n",
    "    ''' Verifica que existe la URL y obtiene el link de descarga de la tabla de datos.\n",
    "    Controla que la pagina tenga el botón \"DESCARGAR\" que se usa para descargar el archivo.\n",
    "        \n",
    "    INPUT: url_pagina: enlace de la página web de la cual queremos obtener el link de descarga.\n",
    "    OUPUT: link_descarga: enlace de descarga\n",
    "    '''\n",
    "    \n",
    "    logging.info(f'__Pagina web a utilizar: {url_pagina}')\n",
    "    \n",
    "    # Entra y verifica la pagina\n",
    "    pagina = requests.get(url = url_pagina)\n",
    "    requests_get_OK(pagina)\n",
    "    \n",
    "    # Busca y Extrae el link\n",
    "    inicio = 'href=\"'\n",
    "    final = '\">DESCARGAR'\n",
    "    link_descarga = re.search(f'{inicio}(.*?){final}', pagina.text)[1]\n",
    "    \n",
    "    if link_descarga: \n",
    "        logging.info(f'Se ha obtenido el link de descarga: {link_descarga}')\n",
    "        return link_descarga\n",
    "    else:\n",
    "        logging.warning(f'No se encuentra el link de descarga: {link_descarga}')\n",
    "        return print('No se encuentra el link de descarga')\n",
    "        \n",
    "    "
   ]
  },
  {
   "cell_type": "code",
   "execution_count": 22,
   "id": "9aea5434-4fe3-4648-957b-6872adc56b8d",
   "metadata": {},
   "outputs": [],
   "source": [
    "def descargar_tabla(url_descarga):\n",
    "    ''' Descarga la tabla de datos en formato binario\n",
    "    \n",
    "    INPUT: url_descarga: enlace de descarga del archivo con los datos (archivo .csv).\n",
    "    OUPUT: contenido: tabla en formato binario.    \n",
    "    '''\n",
    "    \n",
    "    pagina = requests.get(url = url_descarga)\n",
    "    requests_get_OK(pagina)\n",
    "    \n",
    "#     print(pagina.apparent_encoding)\n",
    "\n",
    "    # Extrae el contenido del archivo\n",
    "    contenido = pagina.content   # Contains bytes with the raw response content.\n",
    "    \n",
    "    file_name = url_descarga.split(\"/\")[-1]  # nombre del archivo de la url de descarga\n",
    "    logging.info(f'Se ha descargado la información de {file_name}')\n",
    "\n",
    "    return contenido"
   ]
  },
  {
   "cell_type": "code",
   "execution_count": 23,
   "id": "e260c338-6948-4e92-b361-752ddf837b85",
   "metadata": {},
   "outputs": [],
   "source": [
    "def file_path(categoria_link):\n",
    "    ''' Crea la estructura de carpetas donde se guardarán las tablas.\n",
    "    Por ej: Cultura_dataset/museos/2021-diciembre/museos-10-12-2021.csv\n",
    "    \n",
    "    INPUT: categoria_link: link de descarga de la tabla de datos\n",
    "    OUTPUT: file_path: el path completo donde se guardará el archivo\n",
    "    '''\n",
    "#     meses_traduccion = {'January':'Enero', 'February':'Febrero', 'March':'Marzo',\n",
    "#                     'April':'Abril', 'May':'Mayo', 'June':'Junio',\n",
    "#                     'July':'Julio', 'August':'Agosto', 'September':'Septiembre',\n",
    "#                     'October':'Octubre', 'November':'Noviembre', 'December':'Diciembre' }\n",
    "    \n",
    "    # Carpeta principal\n",
    "    path = 'Cultura_dataset'\n",
    "    \n",
    "    # Carpeta secundaria para la categoría correspondiente\n",
    "    file_name = categoria_link.split('/')[-1]\n",
    "    folder_category = file_name.replace('.csv','')\n",
    "    \n",
    "    # Carpeta terciaria \n",
    "    year = date.today().strftime('%Y')\n",
    "    month = date.today().strftime('%B')\n",
    "#     if month in meses_traduccion:   #Si el mes está en inglés, lo traducimos\n",
    "#         month = meses_traduccion[month].lower()   # mes en minúsculas\n",
    "#     else:\n",
    "#         month = month.lower()\n",
    "    folder_date = year+'-'+month  # YYYY-mes\n",
    "    \n",
    "    # Path final para la categoría correspondiente\n",
    "    path_final = os.path.join(path,folder_category, folder_date)\n",
    "\n",
    "    # Creamos las carpetas de forma recursiva si NO existen (exist_ok=True).\n",
    "    os.makedirs(path_final, exist_ok=True)\n",
    "    \n",
    "    # # Fecha de Descarga DD-MM-YYYY                      ----  ? ? ? ? ? ? ? ----\n",
    "    download_date = date.today().strftime('%d-%m-%Y')  \n",
    "    # Nombre del archivo a guardar\n",
    "    file = folder_category + '-' + download_date + '.csv'   \n",
    "    # Path con el nombre del archivo a guardar\n",
    "    file_path = os.path.join(path_final, file)\n",
    "    \n",
    "    logging.info(f'El path completo con el archivo es: {file_path}')\n",
    "    \n",
    "    return file_path"
   ]
  },
  {
   "cell_type": "code",
   "execution_count": 24,
   "id": "c3df3e32-4dd3-4c98-9e4a-854886c60196",
   "metadata": {},
   "outputs": [],
   "source": [
    "def guardar_archivo(file_path, categoria_tabla):\n",
    "    ''' Crea el archivo y guarda la tabla de datos en el mismo.\n",
    "    \n",
    "    INPUT: file_path: El path donde se guardarán los datos\n",
    "           categoria_tabla: variable que contiene el contenido de la tabla\n",
    "    OUTPUT:\n",
    "    '''        \n",
    "    csv_file = open(file_path, 'wb')  # For text responses you need to use \"w\" - plain write mode. For binary \"wb\"\n",
    "    csv_file.write(categoria_tabla)\n",
    "    csv_file.close()\n",
    "    \n",
    "    logging.info(f'Se guardó el archivo en: {file_path}')\n",
    "\n",
    "    return print(f'Se guardó el archivo en: {file_path}')"
   ]
  },
  {
   "cell_type": "markdown",
   "id": "abc4af6a-f701-441b-af91-1a98af1dcc80",
   "metadata": {},
   "source": [
    "## **4) Ejecutamos**"
   ]
  },
  {
   "cell_type": "code",
   "execution_count": 25,
   "id": "5c5a6b6e-e9cf-4956-80ad-710b97602dde",
   "metadata": {
    "tags": []
   },
   "outputs": [],
   "source": [
    "''' URLs dadas:\n",
    "No es la url directa a la tabla, sino que tenemos que buscarla.'''\n",
    "\n",
    "url_museos = 'https://datos.gob.ar/dataset/cultura-mapa-cultural-espacios-culturales/archivo/cultura_4207def0-2ff7-41d5-9095-d42ae8207a5d'\n",
    "url_cines = 'https://datos.gob.ar/dataset/cultura-mapa-cultural-espacios-culturales/archivo/cultura_392ce1a8-ef11-4776-b280-6f1c7fae16ae'\n",
    "url_bibliotecas = 'https://datos.gob.ar/dataset/cultura-mapa-cultural-espacios-culturales/archivo/cultura_01c6c048-dbeb-44e0-8efa-6944f73715d7'"
   ]
  },
  {
   "cell_type": "code",
   "execution_count": 26,
   "id": "c284bf7e-d160-4ef5-89db-b3c3a0aca74d",
   "metadata": {},
   "outputs": [],
   "source": [
    "urls = ['url_museos', 'url_cines', 'url_bibliotecas']"
   ]
  },
  {
   "cell_type": "code",
   "execution_count": 27,
   "id": "a80d79ac-5738-4ac8-a26a-fb8a1403d2c7",
   "metadata": {
    "tags": []
   },
   "outputs": [
    {
     "name": "stdout",
     "output_type": "stream",
     "text": [
      "url_museos\n",
      "Se guardó el archivo en: Cultura_dataset/museos/2022-enero/museos-06-01-2022.csv\n",
      "url_cines\n",
      "Se guardó el archivo en: Cultura_dataset/cine/2022-enero/cine-06-01-2022.csv\n",
      "url_bibliotecas\n",
      "Se guardó el archivo en: Cultura_dataset/biblioteca_popular/2022-enero/biblioteca_popular-06-01-2022.csv\n",
      "\n",
      ".........Terminó la descarga de las tablas (1ra Parte) \n"
     ]
    }
   ],
   "source": [
    "# Creamos el archivo info.LOG \n",
    "logging.basicConfig(filename= 'info.log', format='%(asctime)s : %(levelname)s : %(message)s',\n",
    "                    datefmt='%d/%m/%y %H:%M:%S', level=logging.INFO,\n",
    "                    filemode = 'w', force=True)\n",
    "logging.info('EJECUTANDO LA PARTE 1 (1er archivo.... ')\n",
    "\n",
    "# Ejecutamos las funciones para descargar las tablas de datos\n",
    "for site in urls:\n",
    "    print(site)\n",
    "    link = obtener_link(eval(site))\n",
    "    \n",
    "    tabla = descargar_tabla(link)\n",
    "    \n",
    "    path = file_path(link)    \n",
    "    guardar_archivo(path, tabla)\n",
    "\n",
    "logging.info('.........Terminó la descarga de las tablas (1ra Parte) ')\n",
    "print('\\n.........Terminó la descarga de las tablas (1ra Parte) ')"
   ]
  },
  {
   "cell_type": "code",
   "execution_count": null,
   "id": "02f97d56-aab5-4ec4-a0b1-9b947d4af83d",
   "metadata": {},
   "outputs": [],
   "source": []
  },
  {
   "cell_type": "markdown",
   "id": "3b275c35-65b1-476c-9d2b-77ab4280b452",
   "metadata": {},
   "source": [
    "**LOGGING no me sobreescribe el archivo aunque use 'w'. Debe ser porque lo defino fuera de funciones y lo uso dentro de funciones**"
   ]
  },
  {
   "cell_type": "code",
   "execution_count": null,
   "id": "e70f0ca3-d713-478c-8e69-67a6861cf70e",
   "metadata": {},
   "outputs": [],
   "source": []
  },
  {
   "cell_type": "code",
   "execution_count": null,
   "id": "6be8ac3f-b053-4643-be4f-42d0618eb085",
   "metadata": {},
   "outputs": [],
   "source": []
  },
  {
   "cell_type": "code",
   "execution_count": null,
   "id": "00d7aaab-ba5f-45b7-8055-74d587af6080",
   "metadata": {},
   "outputs": [],
   "source": []
  },
  {
   "cell_type": "code",
   "execution_count": null,
   "id": "376fe560-e8c7-4718-881f-f0e4d81b050a",
   "metadata": {},
   "outputs": [],
   "source": []
  },
  {
   "cell_type": "markdown",
   "id": "75ec528d-30f8-46b7-a23c-b5b50f201160",
   "metadata": {},
   "source": [
    "## **Pruebas**"
   ]
  },
  {
   "cell_type": "code",
   "execution_count": null,
   "id": "1dcb240a-a1c2-4d78-863c-6b9bd750135e",
   "metadata": {},
   "outputs": [],
   "source": []
  },
  {
   "cell_type": "code",
   "execution_count": 28,
   "id": "e947f7a0-d56a-42f2-b983-93131e82f19f",
   "metadata": {},
   "outputs": [],
   "source": [
    "# p = url_cines\n",
    "# pagina = requests.get(url = p)\n",
    "\n",
    "# # Busca y Extrae el link\n",
    "# inicio = 'href=\"'\n",
    "# final = '\">DESCARGAR'\n",
    "# link_descarga = re.search(f'{inicio}(.*?){final}', pagina.text)[1]\n",
    "# print(link_descarga)\n",
    "\n",
    "# tab = requests.get(url = link_descarga)\n",
    "# print(tab.status_code)\n",
    "\n",
    "# encod = tab.apparent_encoding\n",
    "# print('encod= ', encod)"
   ]
  },
  {
   "cell_type": "code",
   "execution_count": 29,
   "id": "6ad94e46-a996-4a11-ab36-74a45fefeaf0",
   "metadata": {
    "tags": []
   },
   "outputs": [],
   "source": [
    "# import csv\n",
    "# aux = 'cin.csv'\n",
    "# # with open(aux, \"w\") as file:   #\n",
    "# #     file.write(tab.text)\n",
    "\n",
    "# csv_file = open(aux, 'w', encoding = encod)  # wb: Sobreescribe si existe, sino lo crea. , \n",
    "# csv_file.write(tab.text)\n",
    "# csv_file.close()"
   ]
  },
  {
   "cell_type": "code",
   "execution_count": 30,
   "id": "8eb03260-64e8-4630-b547-0020e6b59e95",
   "metadata": {},
   "outputs": [],
   "source": [
    "# !pwd\n",
    "# import chardet\n",
    "# with open(aux, 'rb') as rawdata:\n",
    "#     result = chardet.detect(rawdata.read(1000000))\n",
    "# print(result)"
   ]
  },
  {
   "cell_type": "code",
   "execution_count": 31,
   "id": "536a6fd7-f913-4123-8fc7-1a401362cbf4",
   "metadata": {
    "tags": []
   },
   "outputs": [],
   "source": [
    "# import pandas as pd\n",
    "# df = pd.read_csv(aux)  # (utf-8 da error con \"museos\" nada más) --  ( latin-1  funciona )\n",
    "# df.head(2)"
   ]
  },
  {
   "cell_type": "code",
   "execution_count": null,
   "id": "257c516f-aba8-4bb0-89fa-2d26d5551229",
   "metadata": {},
   "outputs": [],
   "source": []
  },
  {
   "cell_type": "code",
   "execution_count": 32,
   "id": "5756c36d-82c0-4831-a5a8-9c991e1ee7fe",
   "metadata": {},
   "outputs": [],
   "source": [
    "# Creamos el archivo info.LOG \n",
    "# logging.basicConfig(filename= 'info.log', format='%(asctime)s : %(levelname)s : %(message)s',\n",
    "#                     datefmt='%d/%m/%y %H:%M:%S', level=logging.INFO,\n",
    "#                     filemode = 'w', force=True)"
   ]
  }
 ],
 "metadata": {
  "kernelspec": {
   "display_name": "Python 3 (ipykernel)",
   "language": "python",
   "name": "python3"
  },
  "language_info": {
   "codemirror_mode": {
    "name": "ipython",
    "version": 3
   },
   "file_extension": ".py",
   "mimetype": "text/x-python",
   "name": "python",
   "nbconvert_exporter": "python",
   "pygments_lexer": "ipython3",
   "version": "3.8.11"
  }
 },
 "nbformat": 4,
 "nbformat_minor": 5
}
